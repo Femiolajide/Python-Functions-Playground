{
 "cells": [
  {
   "cell_type": "markdown",
   "id": "4c46bd34",
   "metadata": {},
   "source": [
    "# **Usage of num_to_words() function**\n"
   ]
  },
  {
   "cell_type": "markdown",
   "id": "15d4df31",
   "metadata": {},
   "source": [
    "- **With integer**"
   ]
  },
  {
   "cell_type": "code",
   "execution_count": 3,
   "id": "2e94b91d",
   "metadata": {},
   "outputs": [
    {
     "data": {
      "text/plain": [
       "'five hundred and three'"
      ]
     },
     "execution_count": 3,
     "metadata": {},
     "output_type": "execute_result"
    }
   ],
   "source": [
    "from variety import num_to_words\n",
    "num_to_words(503)"
   ]
  },
  {
   "cell_type": "markdown",
   "id": "78b8f2f5",
   "metadata": {},
   "source": [
    "- **With decimal** \n",
    "*(will throw error)*"
   ]
  },
  {
   "cell_type": "code",
   "execution_count": 5,
   "id": "8b05ad49",
   "metadata": {},
   "outputs": [
    {
     "ename": "ValueError",
     "evalue": "55.6 is not allowed",
     "output_type": "error",
     "traceback": [
      "\u001b[1;31m---------------------------------------------------------------------------\u001b[0m",
      "\u001b[1;31mValueError\u001b[0m                                Traceback (most recent call last)",
      "Cell \u001b[1;32mIn[5], line 1\u001b[0m\n\u001b[1;32m----> 1\u001b[0m \u001b[43mnum_to_words\u001b[49m\u001b[43m(\u001b[49m\u001b[38;5;241;43m55.6\u001b[39;49m\u001b[43m)\u001b[49m\n",
      "File \u001b[1;32mc:\\Users\\Dell\\Documents\\Python-Functions-Playground\\variety.py:286\u001b[0m, in \u001b[0;36mnum_to_words\u001b[1;34m(a)\u001b[0m\n\u001b[0;32m    280\u001b[0m     \u001b[38;5;66;03m# 1 - 999,999,999,999,999,999,999,999,999,999 FUNCTION ENDS HERE\u001b[39;00m\n\u001b[0;32m    281\u001b[0m \n\u001b[0;32m    282\u001b[0m \n\u001b[0;32m    283\u001b[0m \u001b[38;5;66;03m# 1 - 999,999,999,999,999,999,999,999,999,999,999 FUNCTION STARTS HERE\u001b[39;00m\n\u001b[0;32m    284\u001b[0m \u001b[38;5;66;03m# formating the digits with comma seperator\u001b[39;00m\n\u001b[0;32m    285\u001b[0m \u001b[38;5;28;01mif\u001b[39;00m \u001b[38;5;129;01mnot\u001b[39;00m \u001b[38;5;28misinstance\u001b[39m(a,(\u001b[38;5;28mint\u001b[39m)):\n\u001b[1;32m--> 286\u001b[0m     \u001b[38;5;28;01mraise\u001b[39;00m \u001b[38;5;167;01mValueError\u001b[39;00m (\u001b[38;5;124mf\u001b[39m\u001b[38;5;124m\"\u001b[39m\u001b[38;5;132;01m{\u001b[39;00ma\u001b[38;5;132;01m}\u001b[39;00m\u001b[38;5;124m is not allowed\u001b[39m\u001b[38;5;124m\"\u001b[39m)\n\u001b[0;32m    287\u001b[0m d \u001b[38;5;241m=\u001b[39m \u001b[38;5;124mf\u001b[39m\u001b[38;5;124m\"\u001b[39m\u001b[38;5;132;01m{\u001b[39;00ma\u001b[38;5;132;01m:\u001b[39;00m\u001b[38;5;124m,\u001b[39m\u001b[38;5;132;01m}\u001b[39;00m\u001b[38;5;124m\"\u001b[39m\n\u001b[0;32m    288\u001b[0m \u001b[38;5;66;03m# condition for octillion\u001b[39;00m\n",
      "\u001b[1;31mValueError\u001b[0m: 55.6 is not allowed"
     ]
    }
   ],
   "source": [
    "num_to_words(55.6)"
   ]
  },
  {
   "cell_type": "markdown",
   "id": "08770d39",
   "metadata": {},
   "source": [
    "- **With negative number** \n",
    "*(will throw error)*"
   ]
  },
  {
   "cell_type": "code",
   "execution_count": 6,
   "id": "c6b3b8b2",
   "metadata": {},
   "outputs": [
    {
     "ename": "ValueError",
     "evalue": "-4 is not allowed",
     "output_type": "error",
     "traceback": [
      "\u001b[1;31m---------------------------------------------------------------------------\u001b[0m",
      "\u001b[1;31mValueError\u001b[0m                                Traceback (most recent call last)",
      "Cell \u001b[1;32mIn[6], line 1\u001b[0m\n\u001b[1;32m----> 1\u001b[0m \u001b[43mnum_to_words\u001b[49m\u001b[43m(\u001b[49m\u001b[38;5;241;43m-\u001b[39;49m\u001b[38;5;241;43m4\u001b[39;49m\u001b[43m)\u001b[49m\n",
      "File \u001b[1;32mc:\\Users\\Dell\\Documents\\Python-Functions-Playground\\variety.py:302\u001b[0m, in \u001b[0;36mnum_to_words\u001b[1;34m(a)\u001b[0m\n\u001b[0;32m    300\u001b[0m         \u001b[38;5;28;01mreturn\u001b[39;00m \u001b[38;5;124mf\u001b[39m\u001b[38;5;124m\"\u001b[39m\u001b[38;5;132;01m{\u001b[39;00mone_octillion(b)\u001b[38;5;132;01m}\u001b[39;00m\u001b[38;5;124m nonillion\u001b[39m\u001b[38;5;124m\"\u001b[39m\n\u001b[0;32m    301\u001b[0m \u001b[38;5;28;01melse\u001b[39;00m:\n\u001b[1;32m--> 302\u001b[0m     \u001b[38;5;28;01mreturn\u001b[39;00m \u001b[43mone_octillion\u001b[49m\u001b[43m(\u001b[49m\u001b[43ma\u001b[49m\u001b[43m)\u001b[49m\n",
      "File \u001b[1;32mc:\\Users\\Dell\\Documents\\Python-Functions-Playground\\variety.py:23\u001b[0m, in \u001b[0;36mnum_to_words.<locals>.one_octillion\u001b[1;34m(a)\u001b[0m\n\u001b[0;32m     21\u001b[0m \u001b[38;5;28;01mdef\u001b[39;00m \u001b[38;5;21mone_octillion\u001b[39m(a):\n\u001b[0;32m     22\u001b[0m     \u001b[38;5;28;01mif\u001b[39;00m a \u001b[38;5;241m<\u001b[39m \u001b[38;5;241m1\u001b[39m:\n\u001b[1;32m---> 23\u001b[0m         \u001b[38;5;28;01mraise\u001b[39;00m \u001b[38;5;167;01mValueError\u001b[39;00m (\u001b[38;5;124mf\u001b[39m\u001b[38;5;124m\"\u001b[39m\u001b[38;5;132;01m{\u001b[39;00ma\u001b[38;5;132;01m}\u001b[39;00m\u001b[38;5;124m is not allowed\u001b[39m\u001b[38;5;124m\"\u001b[39m)\n\u001b[0;32m     24\u001b[0m     \u001b[38;5;28;01mdef\u001b[39;00m \u001b[38;5;21mone_septillion\u001b[39m(a):\n\u001b[0;32m     25\u001b[0m         \u001b[38;5;28;01mdef\u001b[39;00m \u001b[38;5;21mone_sextillion\u001b[39m(a):\n",
      "\u001b[1;31mValueError\u001b[0m: -4 is not allowed"
     ]
    }
   ],
   "source": [
    "num_to_words(-4)"
   ]
  },
  {
   "cell_type": "markdown",
   "id": "9fee9a94",
   "metadata": {},
   "source": [
    "- **With string** \n",
    "*(will throw error)*"
   ]
  },
  {
   "cell_type": "code",
   "execution_count": 7,
   "id": "e0fc1ef1",
   "metadata": {},
   "outputs": [
    {
     "ename": "ValueError",
     "evalue": "gd is not allowed",
     "output_type": "error",
     "traceback": [
      "\u001b[1;31m---------------------------------------------------------------------------\u001b[0m",
      "\u001b[1;31mValueError\u001b[0m                                Traceback (most recent call last)",
      "Cell \u001b[1;32mIn[7], line 1\u001b[0m\n\u001b[1;32m----> 1\u001b[0m \u001b[43mnum_to_words\u001b[49m\u001b[43m(\u001b[49m\u001b[38;5;124;43m\"\u001b[39;49m\u001b[38;5;124;43mgd\u001b[39;49m\u001b[38;5;124;43m\"\u001b[39;49m\u001b[43m)\u001b[49m\n",
      "File \u001b[1;32mc:\\Users\\Dell\\Documents\\Python-Functions-Playground\\variety.py:286\u001b[0m, in \u001b[0;36mnum_to_words\u001b[1;34m(a)\u001b[0m\n\u001b[0;32m    280\u001b[0m     \u001b[38;5;66;03m# 1 - 999,999,999,999,999,999,999,999,999,999 FUNCTION ENDS HERE\u001b[39;00m\n\u001b[0;32m    281\u001b[0m \n\u001b[0;32m    282\u001b[0m \n\u001b[0;32m    283\u001b[0m \u001b[38;5;66;03m# 1 - 999,999,999,999,999,999,999,999,999,999,999 FUNCTION STARTS HERE\u001b[39;00m\n\u001b[0;32m    284\u001b[0m \u001b[38;5;66;03m# formating the digits with comma seperator\u001b[39;00m\n\u001b[0;32m    285\u001b[0m \u001b[38;5;28;01mif\u001b[39;00m \u001b[38;5;129;01mnot\u001b[39;00m \u001b[38;5;28misinstance\u001b[39m(a,(\u001b[38;5;28mint\u001b[39m)):\n\u001b[1;32m--> 286\u001b[0m     \u001b[38;5;28;01mraise\u001b[39;00m \u001b[38;5;167;01mValueError\u001b[39;00m (\u001b[38;5;124mf\u001b[39m\u001b[38;5;124m\"\u001b[39m\u001b[38;5;132;01m{\u001b[39;00ma\u001b[38;5;132;01m}\u001b[39;00m\u001b[38;5;124m is not allowed\u001b[39m\u001b[38;5;124m\"\u001b[39m)\n\u001b[0;32m    287\u001b[0m d \u001b[38;5;241m=\u001b[39m \u001b[38;5;124mf\u001b[39m\u001b[38;5;124m\"\u001b[39m\u001b[38;5;132;01m{\u001b[39;00ma\u001b[38;5;132;01m:\u001b[39;00m\u001b[38;5;124m,\u001b[39m\u001b[38;5;132;01m}\u001b[39;00m\u001b[38;5;124m\"\u001b[39m\n\u001b[0;32m    288\u001b[0m \u001b[38;5;66;03m# condition for octillion\u001b[39;00m\n",
      "\u001b[1;31mValueError\u001b[0m: gd is not allowed"
     ]
    }
   ],
   "source": [
    "num_to_words(\"gd\")"
   ]
  }
 ],
 "metadata": {
  "kernelspec": {
   "display_name": "Python 3",
   "language": "python",
   "name": "python3"
  },
  "language_info": {
   "codemirror_mode": {
    "name": "ipython",
    "version": 3
   },
   "file_extension": ".py",
   "mimetype": "text/x-python",
   "name": "python",
   "nbconvert_exporter": "python",
   "pygments_lexer": "ipython3",
   "version": "3.13.7"
  }
 },
 "nbformat": 4,
 "nbformat_minor": 5
}
